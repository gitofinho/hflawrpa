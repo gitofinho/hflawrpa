{
 "cells": [
  {
   "cell_type": "code",
   "execution_count": 2,
   "id": "bcc0dc3d-7260-4129-b7c2-6e707dbdfbdf",
   "metadata": {},
   "outputs": [],
   "source": [
    "import win32com.client as win32\n",
    "import pandas as pd"
   ]
  },
  {
   "cell_type": "code",
   "execution_count": 3,
   "id": "bff52196-b63f-40c5-9a27-23d5cf672a0f",
   "metadata": {},
   "outputs": [],
   "source": [
    "hwp = win32.gencache.EnsureDispatch(\"hwpframe.hwpobject\")"
   ]
  },
  {
   "cell_type": "code",
   "execution_count": 4,
   "id": "81d93614-9314-482d-a842-b06c7d6b2c3b",
   "metadata": {},
   "outputs": [],
   "source": [
    "hwp.XHwpWindows.Item(0).Visible = True #한글 파일 시각"
   ]
  },
  {
   "cell_type": "code",
   "execution_count": 6,
   "id": "9c9e38a5-2140-49b9-a114-06a655a5bc62",
   "metadata": {},
   "outputs": [
    {
     "data": {
      "text/plain": [
       "True"
      ]
     },
     "execution_count": 6,
     "metadata": {},
     "output_type": "execute_result"
    }
   ],
   "source": [
    "hwp.Open(\"C:/Users/dlsgh/Downloads/학과심사_평가집계표_서식.hwp\")"
   ]
  },
  {
   "cell_type": "code",
   "execution_count": 7,
   "id": "73a98f7e-e80e-4a03-980d-2fce73dbdfc5",
   "metadata": {},
   "outputs": [],
   "source": [
    "df = pd.read_excel(r\"C:/Users/dlsgh/Downloads/학생명단.xlsx\")"
   ]
  },
  {
   "cell_type": "code",
   "execution_count": 8,
   "id": "362a517c-0626-48da-b0e0-eae6f93d7f36",
   "metadata": {},
   "outputs": [
    {
     "data": {
      "text/html": [
       "<div>\n",
       "<style scoped>\n",
       "    .dataframe tbody tr th:only-of-type {\n",
       "        vertical-align: middle;\n",
       "    }\n",
       "\n",
       "    .dataframe tbody tr th {\n",
       "        vertical-align: top;\n",
       "    }\n",
       "\n",
       "    .dataframe thead th {\n",
       "        text-align: right;\n",
       "    }\n",
       "</style>\n",
       "<table border=\"1\" class=\"dataframe\">\n",
       "  <thead>\n",
       "    <tr style=\"text-align: right;\">\n",
       "      <th></th>\n",
       "      <th>수험번호</th>\n",
       "      <th>전형</th>\n",
       "      <th>학과</th>\n",
       "      <th>성명</th>\n",
       "    </tr>\n",
       "  </thead>\n",
       "  <tbody>\n",
       "    <tr>\n",
       "      <th>0</th>\n",
       "      <td>123400002</td>\n",
       "      <td>석사(Master)</td>\n",
       "      <td>국어국문학과</td>\n",
       "      <td>Zachary Santiago</td>\n",
       "    </tr>\n",
       "    <tr>\n",
       "      <th>1</th>\n",
       "      <td>123400012</td>\n",
       "      <td>석사(Master)</td>\n",
       "      <td>국어국문학과</td>\n",
       "      <td>Marcus Keller</td>\n",
       "    </tr>\n",
       "    <tr>\n",
       "      <th>2</th>\n",
       "      <td>123400022</td>\n",
       "      <td>석사(Master)</td>\n",
       "      <td>국어국문학과</td>\n",
       "      <td>Jared Roberts</td>\n",
       "    </tr>\n",
       "    <tr>\n",
       "      <th>3</th>\n",
       "      <td>123400032</td>\n",
       "      <td>석사(Master)</td>\n",
       "      <td>국어국문학과</td>\n",
       "      <td>Christine Hebert</td>\n",
       "    </tr>\n",
       "    <tr>\n",
       "      <th>4</th>\n",
       "      <td>123400042</td>\n",
       "      <td>석사(Master)</td>\n",
       "      <td>국어국문학과</td>\n",
       "      <td>Alex Salazar</td>\n",
       "    </tr>\n",
       "    <tr>\n",
       "      <th>...</th>\n",
       "      <td>...</td>\n",
       "      <td>...</td>\n",
       "      <td>...</td>\n",
       "      <td>...</td>\n",
       "    </tr>\n",
       "    <tr>\n",
       "      <th>75</th>\n",
       "      <td>123400040</td>\n",
       "      <td>석사(Master)</td>\n",
       "      <td>프랑스어문학과</td>\n",
       "      <td>Amanda Marshall</td>\n",
       "    </tr>\n",
       "    <tr>\n",
       "      <th>76</th>\n",
       "      <td>123400050</td>\n",
       "      <td>석사(Master)</td>\n",
       "      <td>프랑스어문학과</td>\n",
       "      <td>Julia Aguilar</td>\n",
       "    </tr>\n",
       "    <tr>\n",
       "      <th>77</th>\n",
       "      <td>123400060</td>\n",
       "      <td>석사(Master)</td>\n",
       "      <td>프랑스어문학과</td>\n",
       "      <td>Mrs. Kendra Barron DVM</td>\n",
       "    </tr>\n",
       "    <tr>\n",
       "      <th>78</th>\n",
       "      <td>123400070</td>\n",
       "      <td>박사(Doctoral)</td>\n",
       "      <td>프랑스어문학과</td>\n",
       "      <td>Edward Ford</td>\n",
       "    </tr>\n",
       "    <tr>\n",
       "      <th>79</th>\n",
       "      <td>123400080</td>\n",
       "      <td>박사(Doctoral)</td>\n",
       "      <td>프랑스어문학과</td>\n",
       "      <td>Gabrielle Ochoa</td>\n",
       "    </tr>\n",
       "  </tbody>\n",
       "</table>\n",
       "<p>80 rows × 4 columns</p>\n",
       "</div>"
      ],
      "text/plain": [
       "         수험번호            전형       학과                      성명\n",
       "0   123400002    석사(Master)   국어국문학과        Zachary Santiago\n",
       "1   123400012    석사(Master)   국어국문학과           Marcus Keller\n",
       "2   123400022    석사(Master)   국어국문학과           Jared Roberts\n",
       "3   123400032    석사(Master)   국어국문학과        Christine Hebert\n",
       "4   123400042    석사(Master)   국어국문학과            Alex Salazar\n",
       "..        ...           ...      ...                     ...\n",
       "75  123400040    석사(Master)  프랑스어문학과         Amanda Marshall\n",
       "76  123400050    석사(Master)  프랑스어문학과           Julia Aguilar\n",
       "77  123400060    석사(Master)  프랑스어문학과  Mrs. Kendra Barron DVM\n",
       "78  123400070  박사(Doctoral)  프랑스어문학과             Edward Ford\n",
       "79  123400080  박사(Doctoral)  프랑스어문학과         Gabrielle Ochoa\n",
       "\n",
       "[80 rows x 4 columns]"
      ]
     },
     "execution_count": 8,
     "metadata": {},
     "output_type": "execute_result"
    }
   ],
   "source": [
    "df"
   ]
  },
  {
   "cell_type": "code",
   "execution_count": 9,
   "id": "0b166747-6c42-4488-8274-a2f186534e7d",
   "metadata": {},
   "outputs": [
    {
     "data": {
      "text/html": [
       "<div>\n",
       "<style scoped>\n",
       "    .dataframe tbody tr th:only-of-type {\n",
       "        vertical-align: middle;\n",
       "    }\n",
       "\n",
       "    .dataframe tbody tr th {\n",
       "        vertical-align: top;\n",
       "    }\n",
       "\n",
       "    .dataframe thead th {\n",
       "        text-align: right;\n",
       "    }\n",
       "</style>\n",
       "<table border=\"1\" class=\"dataframe\">\n",
       "  <thead>\n",
       "    <tr style=\"text-align: right;\">\n",
       "      <th></th>\n",
       "      <th>수험번호</th>\n",
       "      <th>전형</th>\n",
       "      <th>학과</th>\n",
       "      <th>성명</th>\n",
       "    </tr>\n",
       "  </thead>\n",
       "  <tbody>\n",
       "    <tr>\n",
       "      <th>0</th>\n",
       "      <td>123400002</td>\n",
       "      <td>석사(Master)</td>\n",
       "      <td>국어국문학과</td>\n",
       "      <td>Zachary Santiago</td>\n",
       "    </tr>\n",
       "    <tr>\n",
       "      <th>1</th>\n",
       "      <td>123400012</td>\n",
       "      <td>석사(Master)</td>\n",
       "      <td>국어국문학과</td>\n",
       "      <td>Marcus Keller</td>\n",
       "    </tr>\n",
       "    <tr>\n",
       "      <th>2</th>\n",
       "      <td>123400022</td>\n",
       "      <td>석사(Master)</td>\n",
       "      <td>국어국문학과</td>\n",
       "      <td>Jared Roberts</td>\n",
       "    </tr>\n",
       "    <tr>\n",
       "      <th>3</th>\n",
       "      <td>123400032</td>\n",
       "      <td>석사(Master)</td>\n",
       "      <td>국어국문학과</td>\n",
       "      <td>Christine Hebert</td>\n",
       "    </tr>\n",
       "    <tr>\n",
       "      <th>4</th>\n",
       "      <td>123400042</td>\n",
       "      <td>석사(Master)</td>\n",
       "      <td>국어국문학과</td>\n",
       "      <td>Alex Salazar</td>\n",
       "    </tr>\n",
       "    <tr>\n",
       "      <th>5</th>\n",
       "      <td>123400052</td>\n",
       "      <td>석사(Master)</td>\n",
       "      <td>국어국문학과</td>\n",
       "      <td>Janet Orr</td>\n",
       "    </tr>\n",
       "    <tr>\n",
       "      <th>6</th>\n",
       "      <td>123400062</td>\n",
       "      <td>박사(Doctoral)</td>\n",
       "      <td>국어국문학과</td>\n",
       "      <td>Holly Carter</td>\n",
       "    </tr>\n",
       "    <tr>\n",
       "      <th>7</th>\n",
       "      <td>123400072</td>\n",
       "      <td>박사(Doctoral)</td>\n",
       "      <td>국어국문학과</td>\n",
       "      <td>Christopher Powell</td>\n",
       "    </tr>\n",
       "  </tbody>\n",
       "</table>\n",
       "</div>"
      ],
      "text/plain": [
       "        수험번호            전형      학과                  성명\n",
       "0  123400002    석사(Master)  국어국문학과    Zachary Santiago\n",
       "1  123400012    석사(Master)  국어국문학과       Marcus Keller\n",
       "2  123400022    석사(Master)  국어국문학과       Jared Roberts\n",
       "3  123400032    석사(Master)  국어국문학과    Christine Hebert\n",
       "4  123400042    석사(Master)  국어국문학과        Alex Salazar\n",
       "5  123400052    석사(Master)  국어국문학과           Janet Orr\n",
       "6  123400062  박사(Doctoral)  국어국문학과        Holly Carter\n",
       "7  123400072  박사(Doctoral)  국어국문학과  Christopher Powell"
      ]
     },
     "execution_count": 9,
     "metadata": {},
     "output_type": "execute_result"
    }
   ],
   "source": [
    "df[df[\"학과\"] == \"국어국문학과\"]"
   ]
  },
  {
   "cell_type": "code",
   "execution_count": 10,
   "id": "9290e414-07a2-428d-bf69-564156fcad0e",
   "metadata": {},
   "outputs": [
    {
     "data": {
      "text/html": [
       "<div>\n",
       "<style scoped>\n",
       "    .dataframe tbody tr th:only-of-type {\n",
       "        vertical-align: middle;\n",
       "    }\n",
       "\n",
       "    .dataframe tbody tr th {\n",
       "        vertical-align: top;\n",
       "    }\n",
       "\n",
       "    .dataframe thead th {\n",
       "        text-align: right;\n",
       "    }\n",
       "</style>\n",
       "<table border=\"1\" class=\"dataframe\">\n",
       "  <thead>\n",
       "    <tr style=\"text-align: right;\">\n",
       "      <th></th>\n",
       "      <th>수험번호</th>\n",
       "      <th>전형</th>\n",
       "      <th>학과</th>\n",
       "      <th>성명</th>\n",
       "    </tr>\n",
       "  </thead>\n",
       "  <tbody>\n",
       "    <tr>\n",
       "      <th>0</th>\n",
       "      <td>123400002</td>\n",
       "      <td>석사(Master)</td>\n",
       "      <td>국어국문학과</td>\n",
       "      <td>Zachary Santiago</td>\n",
       "    </tr>\n",
       "    <tr>\n",
       "      <th>1</th>\n",
       "      <td>123400012</td>\n",
       "      <td>석사(Master)</td>\n",
       "      <td>국어국문학과</td>\n",
       "      <td>Marcus Keller</td>\n",
       "    </tr>\n",
       "    <tr>\n",
       "      <th>2</th>\n",
       "      <td>123400022</td>\n",
       "      <td>석사(Master)</td>\n",
       "      <td>국어국문학과</td>\n",
       "      <td>Jared Roberts</td>\n",
       "    </tr>\n",
       "    <tr>\n",
       "      <th>3</th>\n",
       "      <td>123400032</td>\n",
       "      <td>석사(Master)</td>\n",
       "      <td>국어국문학과</td>\n",
       "      <td>Christine Hebert</td>\n",
       "    </tr>\n",
       "    <tr>\n",
       "      <th>4</th>\n",
       "      <td>123400042</td>\n",
       "      <td>석사(Master)</td>\n",
       "      <td>국어국문학과</td>\n",
       "      <td>Alex Salazar</td>\n",
       "    </tr>\n",
       "    <tr>\n",
       "      <th>5</th>\n",
       "      <td>123400052</td>\n",
       "      <td>석사(Master)</td>\n",
       "      <td>국어국문학과</td>\n",
       "      <td>Janet Orr</td>\n",
       "    </tr>\n",
       "  </tbody>\n",
       "</table>\n",
       "</div>"
      ],
      "text/plain": [
       "        수험번호          전형      학과                성명\n",
       "0  123400002  석사(Master)  국어국문학과  Zachary Santiago\n",
       "1  123400012  석사(Master)  국어국문학과     Marcus Keller\n",
       "2  123400022  석사(Master)  국어국문학과     Jared Roberts\n",
       "3  123400032  석사(Master)  국어국문학과  Christine Hebert\n",
       "4  123400042  석사(Master)  국어국문학과      Alex Salazar\n",
       "5  123400052  석사(Master)  국어국문학과         Janet Orr"
      ]
     },
     "execution_count": 10,
     "metadata": {},
     "output_type": "execute_result"
    }
   ],
   "source": [
    "df[(df[\"학과\"] == \"국어국문학과\") & (df[\"전형\"] ==\"석사(Master)\")]"
   ]
  },
  {
   "cell_type": "code",
   "execution_count": 12,
   "id": "be8fba72-1f3b-4832-b234-e4fd375af4b4",
   "metadata": {},
   "outputs": [
    {
     "data": {
      "text/plain": [
       "'11'"
      ]
     },
     "execution_count": 12,
     "metadata": {},
     "output_type": "execute_result"
    }
   ],
   "source": [
    "hwp.GetFieldText(\"수험번호1\")"
   ]
  },
  {
   "cell_type": "code",
   "execution_count": 13,
   "id": "50433440-7c3f-440b-86f7-13e580407833",
   "metadata": {},
   "outputs": [],
   "source": [
    "hwp.PutFieldText(\"수험번호1\", \"123400002\")"
   ]
  },
  {
   "cell_type": "code",
   "execution_count": 14,
   "id": "03175afc-a1c9-481d-b6e8-c1112d37ddd0",
   "metadata": {},
   "outputs": [
    {
     "data": {
      "text/plain": [
       "10"
      ]
     },
     "execution_count": 14,
     "metadata": {},
     "output_type": "execute_result"
    }
   ],
   "source": [
    "df[\"학과\"].nunique()"
   ]
  },
  {
   "cell_type": "code",
   "execution_count": 15,
   "id": "9dd10274-f7f2-4ca7-bba2-571df39b3345",
   "metadata": {},
   "outputs": [
    {
     "data": {
      "text/plain": [
       "array(['석사(Master)', '박사(Doctoral)'], dtype=object)"
      ]
     },
     "execution_count": 15,
     "metadata": {},
     "output_type": "execute_result"
    }
   ],
   "source": [
    "df[\"전형\"].unique()"
   ]
  },
  {
   "cell_type": "code",
   "execution_count": 40,
   "id": "909950cc-8c34-42b3-b3d7-f8a9d07d7106",
   "metadata": {},
   "outputs": [
    {
     "data": {
      "text/plain": [
       "True"
      ]
     },
     "execution_count": 40,
     "metadata": {},
     "output_type": "execute_result"
    }
   ],
   "source": [
    "hwp.HAction.Run(\"CopyPage\")"
   ]
  },
  {
   "cell_type": "code",
   "execution_count": 41,
   "id": "227a8eb9-8164-42ba-990c-6f9e8d299cca",
   "metadata": {},
   "outputs": [],
   "source": [
    "for _ in range(19):\n",
    "    hwp.HAction.Run(\"PastePage\")"
   ]
  },
  {
   "cell_type": "code",
   "execution_count": 18,
   "id": "f76dab88-678a-473e-8ba8-bc8886c7043d",
   "metadata": {},
   "outputs": [],
   "source": [
    "df_ = df[[\"학과\",\"전형\"]]"
   ]
  },
  {
   "cell_type": "code",
   "execution_count": 19,
   "id": "f4e5bd84-5459-4c7b-b720-3a83d1626f02",
   "metadata": {},
   "outputs": [
    {
     "data": {
      "text/html": [
       "<div>\n",
       "<style scoped>\n",
       "    .dataframe tbody tr th:only-of-type {\n",
       "        vertical-align: middle;\n",
       "    }\n",
       "\n",
       "    .dataframe tbody tr th {\n",
       "        vertical-align: top;\n",
       "    }\n",
       "\n",
       "    .dataframe thead th {\n",
       "        text-align: right;\n",
       "    }\n",
       "</style>\n",
       "<table border=\"1\" class=\"dataframe\">\n",
       "  <thead>\n",
       "    <tr style=\"text-align: right;\">\n",
       "      <th></th>\n",
       "      <th>학과</th>\n",
       "      <th>전형</th>\n",
       "    </tr>\n",
       "  </thead>\n",
       "  <tbody>\n",
       "    <tr>\n",
       "      <th>0</th>\n",
       "      <td>국어국문학과</td>\n",
       "      <td>석사(Master)</td>\n",
       "    </tr>\n",
       "    <tr>\n",
       "      <th>1</th>\n",
       "      <td>국어국문학과</td>\n",
       "      <td>석사(Master)</td>\n",
       "    </tr>\n",
       "    <tr>\n",
       "      <th>2</th>\n",
       "      <td>국어국문학과</td>\n",
       "      <td>석사(Master)</td>\n",
       "    </tr>\n",
       "    <tr>\n",
       "      <th>3</th>\n",
       "      <td>국어국문학과</td>\n",
       "      <td>석사(Master)</td>\n",
       "    </tr>\n",
       "    <tr>\n",
       "      <th>4</th>\n",
       "      <td>국어국문학과</td>\n",
       "      <td>석사(Master)</td>\n",
       "    </tr>\n",
       "    <tr>\n",
       "      <th>...</th>\n",
       "      <td>...</td>\n",
       "      <td>...</td>\n",
       "    </tr>\n",
       "    <tr>\n",
       "      <th>75</th>\n",
       "      <td>프랑스어문학과</td>\n",
       "      <td>석사(Master)</td>\n",
       "    </tr>\n",
       "    <tr>\n",
       "      <th>76</th>\n",
       "      <td>프랑스어문학과</td>\n",
       "      <td>석사(Master)</td>\n",
       "    </tr>\n",
       "    <tr>\n",
       "      <th>77</th>\n",
       "      <td>프랑스어문학과</td>\n",
       "      <td>석사(Master)</td>\n",
       "    </tr>\n",
       "    <tr>\n",
       "      <th>78</th>\n",
       "      <td>프랑스어문학과</td>\n",
       "      <td>박사(Doctoral)</td>\n",
       "    </tr>\n",
       "    <tr>\n",
       "      <th>79</th>\n",
       "      <td>프랑스어문학과</td>\n",
       "      <td>박사(Doctoral)</td>\n",
       "    </tr>\n",
       "  </tbody>\n",
       "</table>\n",
       "<p>80 rows × 2 columns</p>\n",
       "</div>"
      ],
      "text/plain": [
       "         학과            전형\n",
       "0    국어국문학과    석사(Master)\n",
       "1    국어국문학과    석사(Master)\n",
       "2    국어국문학과    석사(Master)\n",
       "3    국어국문학과    석사(Master)\n",
       "4    국어국문학과    석사(Master)\n",
       "..      ...           ...\n",
       "75  프랑스어문학과    석사(Master)\n",
       "76  프랑스어문학과    석사(Master)\n",
       "77  프랑스어문학과    석사(Master)\n",
       "78  프랑스어문학과  박사(Doctoral)\n",
       "79  프랑스어문학과  박사(Doctoral)\n",
       "\n",
       "[80 rows x 2 columns]"
      ]
     },
     "execution_count": 19,
     "metadata": {},
     "output_type": "execute_result"
    }
   ],
   "source": [
    "df_"
   ]
  },
  {
   "cell_type": "code",
   "execution_count": 34,
   "id": "95ea8701-a9cf-4e7f-a5b2-ba918445d4c6",
   "metadata": {},
   "outputs": [],
   "source": [
    "df_ = df.groupby([\"전형\", \"학과\"]).size().reset_index().drop(0, axis=1)"
   ]
  },
  {
   "cell_type": "code",
   "execution_count": 35,
   "id": "c2251c14-deb3-4102-ac7a-9cd8d3f46807",
   "metadata": {},
   "outputs": [
    {
     "name": "stdout",
     "output_type": "stream",
     "text": [
      "박사(Doctoral) 국어국문학과\n",
      "박사(Doctoral) 독일어문학과\n",
      "박사(Doctoral) 러시아어문학과\n",
      "박사(Doctoral) 문예창작과\n",
      "박사(Doctoral) 스페인어문학과\n",
      "박사(Doctoral) 언어학과\n",
      "박사(Doctoral) 영미어문학과\n",
      "박사(Doctoral) 일본어문학과\n",
      "박사(Doctoral) 중국어문학과\n",
      "박사(Doctoral) 프랑스어문학과\n",
      "석사(Master) 국어국문학과\n",
      "석사(Master) 독일어문학과\n",
      "석사(Master) 러시아어문학과\n",
      "석사(Master) 문예창작과\n",
      "석사(Master) 스페인어문학과\n",
      "석사(Master) 언어학과\n",
      "석사(Master) 영미어문학과\n",
      "석사(Master) 일본어문학과\n",
      "석사(Master) 중국어문학과\n",
      "석사(Master) 프랑스어문학과\n"
     ]
    }
   ],
   "source": [
    "for i in range(len(df_)):\n",
    "    전형, 학과 = df_.iloc[i]\n",
    "    print(전형, 학과)"
   ]
  },
  {
   "cell_type": "code",
   "execution_count": 37,
   "id": "b384e9c4-cd4a-450a-bc74-6cd5a488fd9b",
   "metadata": {},
   "outputs": [
    {
     "data": {
      "text/plain": [
       "'박사(Doctoral)'"
      ]
     },
     "execution_count": 37,
     "metadata": {},
     "output_type": "execute_result"
    }
   ],
   "source": [
    "df_.iloc[0][\"학과\"]\n",
    "df_.iloc[0][\"전형\"]"
   ]
  },
  {
   "cell_type": "code",
   "execution_count": 39,
   "id": "cffef056-7503-4136-9e6b-95cbb4bcdb57",
   "metadata": {},
   "outputs": [],
   "source": [
    "hwp.PutFieldText(\"지원과정\", \"박사(Doctoral)\")"
   ]
  },
  {
   "cell_type": "code",
   "execution_count": 43,
   "id": "b9107680-1ee9-42d5-87ec-0d25a9fd19e8",
   "metadata": {},
   "outputs": [],
   "source": [
    "for i in range(len(df_)):\n",
    "    전형, 학과 = df_.iloc[i]\n",
    "    hwp.PutFieldText(f\"지원과정{{{{{i}}}}}\", 전형)\n",
    "    hwp.PutFieldText(f\"전형{{{{{i}}}}}\", 학과)"
   ]
  },
  {
   "cell_type": "code",
   "execution_count": null,
   "id": "bbfbe90e-f61b-4785-b7c5-01af108f4929",
   "metadata": {},
   "outputs": [],
   "source": []
  }
 ],
 "metadata": {
  "kernelspec": {
   "display_name": "Python 3 (ipykernel)",
   "language": "python",
   "name": "python3"
  },
  "language_info": {
   "codemirror_mode": {
    "name": "ipython",
    "version": 3
   },
   "file_extension": ".py",
   "mimetype": "text/x-python",
   "name": "python",
   "nbconvert_exporter": "python",
   "pygments_lexer": "ipython3",
   "version": "3.11.4"
  }
 },
 "nbformat": 4,
 "nbformat_minor": 5
}
